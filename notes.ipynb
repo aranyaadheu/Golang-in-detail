{
 "cells": [
  {
   "cell_type": "markdown",
   "id": "8467cf8c",
   "metadata": {},
   "source": [
    "<div style=\"text-align: center;\">\n",
    "    <h1>Scope in Go (Golang)</h1>\n",
    "</div>"
   ]
  },
  {
   "cell_type": "markdown",
   "id": "ac5695a6",
   "metadata": {},
   "source": [
    "### What is Scope?\n",
    "\n",
    "**Scope** defines the visibility and lifetime of variables, constants, functions, and other identifiers in your program. It determines where you can access or use those identifiers. "
   ]
  }
 ],
 "metadata": {
  "kernelspec": {
   "display_name": "Go",
   "language": "go",
   "name": "gophernotes"
  },
  "language_info": {
   "name": "go"
  }
 },
 "nbformat": 4,
 "nbformat_minor": 5
}
